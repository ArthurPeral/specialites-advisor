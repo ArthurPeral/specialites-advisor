{
 "cells": [
  {
   "cell_type": "code",
   "execution_count": 102,
   "id": "ad198203-deff-463b-ada4-1acd15a1fa3d",
   "metadata": {},
   "outputs": [],
   "source": [
    "import pandas as pd"
   ]
  },
  {
   "cell_type": "code",
   "execution_count": 104,
   "id": "e63dd7d2-e8f2-40e5-8ded-abebd9e74601",
   "metadata": {},
   "outputs": [],
   "source": [
    "df = pd.read_csv(\"fr-esr-parcoursup-enseignements-de-specialite-bacheliers-generaux.csv\", sep=';')"
   ]
  },
  {
   "cell_type": "code",
   "execution_count": 106,
   "id": "882063d7-c6ce-42ee-bcbf-589de5be7944",
   "metadata": {},
   "outputs": [],
   "source": [
    "df.columns = [\n",
    "    \"specialites\",\n",
    "    \"formation\",\n",
    "    \"nb_candidats_voeu\",\n",
    "    \"nb_candidats_admis\",\n",
    "    \"nb_candidats_acceptes\"\n",
    "]"
   ]
  },
  {
   "cell_type": "code",
   "execution_count": 108,
   "id": "21215aff-7438-47e0-afe2-34cf404151dd",
   "metadata": {},
   "outputs": [],
   "source": [
    "pd.set_option('display.max_rows', 5000) \n",
    "pd.set_option('display.max_colwidth', 500)"
   ]
  },
  {
   "cell_type": "code",
   "execution_count": 118,
   "id": "868be1e6-cc4f-414f-8ed0-f3b1468ed12c",
   "metadata": {},
   "outputs": [],
   "source": [
    "valid_specialites = [\n",
    "    \"Arts\",\n",
    "    \"Humanités, Littérature et Philosophie\",\n",
    "    \"Histoire, Géographie, Géopolitique, Sciences politiques\",\n",
    "    \"Numérique et Sciences Informatiques\",\n",
    "    \"Physique-Chimie\",\n",
    "    \"Sciences économiques et sociales\",\n",
    "    \"Sciences de la vie et de la terre\",\n",
    "    \"Biologie-Ecologie\",\n",
    "    \"Mathématiques\",\n",
    "    \"Langues, Littératures et Cultures Etrangères et Régionales\",\n",
    "    \"Littératures, langues et culture de l'antiquité\",\n",
    "    \"Sciences de l'ingénieur\"\n",
    "]\n",
    "\n",
    "def extract_specialites(text):\n",
    "    return [sp for sp in valid_specialites if sp in text]\n",
    "\n",
    "df['specialites'] = df['specialites'].apply(extract_specialites)"
   ]
  },
  {
   "cell_type": "code",
   "execution_count": 112,
   "id": "32faabe9-3b3e-4b6e-bafc-f7be30a4ec98",
   "metadata": {},
   "outputs": [],
   "source": [
    "df = df[df['specialites'].apply(len) == 2]"
   ]
  },
  {
   "cell_type": "code",
   "execution_count": 116,
   "id": "6692f25a-b116-4d34-834c-8340ce23c3c7",
   "metadata": {},
   "outputs": [],
   "source": [
    "df.to_csv('cleaned_specialites.csv', index=False)"
   ]
  }
 ],
 "metadata": {
  "kernelspec": {
   "display_name": "Python 3 (ipykernel)",
   "language": "python",
   "name": "python3"
  },
  "language_info": {
   "codemirror_mode": {
    "name": "ipython",
    "version": 3
   },
   "file_extension": ".py",
   "mimetype": "text/x-python",
   "name": "python",
   "nbconvert_exporter": "python",
   "pygments_lexer": "ipython3",
   "version": "3.12.3"
  }
 },
 "nbformat": 4,
 "nbformat_minor": 5
}
